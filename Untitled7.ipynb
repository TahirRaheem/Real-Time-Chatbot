{
  "nbformat": 4,
  "nbformat_minor": 0,
  "metadata": {
    "colab": {
      "provenance": [],
      "authorship_tag": "ABX9TyNjFFef44B95wgFWDxo1OuB",
      "include_colab_link": true
    },
    "kernelspec": {
      "name": "python3",
      "display_name": "Python 3"
    },
    "language_info": {
      "name": "python"
    }
  },
  "cells": [
    {
      "cell_type": "markdown",
      "metadata": {
        "id": "view-in-github",
        "colab_type": "text"
      },
      "source": [
        "<a href=\"https://colab.research.google.com/github/TahirRaheem/Real-Time-Chatbot/blob/main/Untitled7.ipynb\" target=\"_parent\"><img src=\"https://colab.research.google.com/assets/colab-badge.svg\" alt=\"Open In Colab\"/></a>"
      ]
    },
    {
      "cell_type": "code",
      "execution_count": 1,
      "metadata": {
        "colab": {
          "base_uri": "https://localhost:8080/"
        },
        "id": "lT5HLSmG5C2O",
        "outputId": "6ab2c4ed-2539-4138-9bab-9004dbcc4130"
      },
      "outputs": [
        {
          "output_type": "stream",
          "name": "stdout",
          "text": [
            "Requirement already satisfied: transformers in /usr/local/lib/python3.10/dist-packages (4.44.2)\n",
            "Requirement already satisfied: torch in /usr/local/lib/python3.10/dist-packages (2.4.1+cu121)\n",
            "Collecting groq\n",
            "  Downloading groq-0.11.0-py3-none-any.whl.metadata (13 kB)\n",
            "Requirement already satisfied: filelock in /usr/local/lib/python3.10/dist-packages (from transformers) (3.16.1)\n",
            "Requirement already satisfied: huggingface-hub<1.0,>=0.23.2 in /usr/local/lib/python3.10/dist-packages (from transformers) (0.24.7)\n",
            "Requirement already satisfied: numpy>=1.17 in /usr/local/lib/python3.10/dist-packages (from transformers) (1.26.4)\n",
            "Requirement already satisfied: packaging>=20.0 in /usr/local/lib/python3.10/dist-packages (from transformers) (24.1)\n",
            "Requirement already satisfied: pyyaml>=5.1 in /usr/local/lib/python3.10/dist-packages (from transformers) (6.0.2)\n",
            "Requirement already satisfied: regex!=2019.12.17 in /usr/local/lib/python3.10/dist-packages (from transformers) (2024.9.11)\n",
            "Requirement already satisfied: requests in /usr/local/lib/python3.10/dist-packages (from transformers) (2.32.3)\n",
            "Requirement already satisfied: safetensors>=0.4.1 in /usr/local/lib/python3.10/dist-packages (from transformers) (0.4.5)\n",
            "Requirement already satisfied: tokenizers<0.20,>=0.19 in /usr/local/lib/python3.10/dist-packages (from transformers) (0.19.1)\n",
            "Requirement already satisfied: tqdm>=4.27 in /usr/local/lib/python3.10/dist-packages (from transformers) (4.66.5)\n",
            "Requirement already satisfied: typing-extensions>=4.8.0 in /usr/local/lib/python3.10/dist-packages (from torch) (4.12.2)\n",
            "Requirement already satisfied: sympy in /usr/local/lib/python3.10/dist-packages (from torch) (1.13.3)\n",
            "Requirement already satisfied: networkx in /usr/local/lib/python3.10/dist-packages (from torch) (3.4.1)\n",
            "Requirement already satisfied: jinja2 in /usr/local/lib/python3.10/dist-packages (from torch) (3.1.4)\n",
            "Requirement already satisfied: fsspec in /usr/local/lib/python3.10/dist-packages (from torch) (2024.6.1)\n",
            "Requirement already satisfied: anyio<5,>=3.5.0 in /usr/local/lib/python3.10/dist-packages (from groq) (3.7.1)\n",
            "Requirement already satisfied: distro<2,>=1.7.0 in /usr/lib/python3/dist-packages (from groq) (1.7.0)\n",
            "Collecting httpx<1,>=0.23.0 (from groq)\n",
            "  Downloading httpx-0.27.2-py3-none-any.whl.metadata (7.1 kB)\n",
            "Requirement already satisfied: pydantic<3,>=1.9.0 in /usr/local/lib/python3.10/dist-packages (from groq) (2.9.2)\n",
            "Requirement already satisfied: sniffio in /usr/local/lib/python3.10/dist-packages (from groq) (1.3.1)\n",
            "Requirement already satisfied: idna>=2.8 in /usr/local/lib/python3.10/dist-packages (from anyio<5,>=3.5.0->groq) (3.10)\n",
            "Requirement already satisfied: exceptiongroup in /usr/local/lib/python3.10/dist-packages (from anyio<5,>=3.5.0->groq) (1.2.2)\n",
            "Requirement already satisfied: certifi in /usr/local/lib/python3.10/dist-packages (from httpx<1,>=0.23.0->groq) (2024.8.30)\n",
            "Collecting httpcore==1.* (from httpx<1,>=0.23.0->groq)\n",
            "  Downloading httpcore-1.0.6-py3-none-any.whl.metadata (21 kB)\n",
            "Collecting h11<0.15,>=0.13 (from httpcore==1.*->httpx<1,>=0.23.0->groq)\n",
            "  Downloading h11-0.14.0-py3-none-any.whl.metadata (8.2 kB)\n",
            "Requirement already satisfied: annotated-types>=0.6.0 in /usr/local/lib/python3.10/dist-packages (from pydantic<3,>=1.9.0->groq) (0.7.0)\n",
            "Requirement already satisfied: pydantic-core==2.23.4 in /usr/local/lib/python3.10/dist-packages (from pydantic<3,>=1.9.0->groq) (2.23.4)\n",
            "Requirement already satisfied: MarkupSafe>=2.0 in /usr/local/lib/python3.10/dist-packages (from jinja2->torch) (3.0.1)\n",
            "Requirement already satisfied: charset-normalizer<4,>=2 in /usr/local/lib/python3.10/dist-packages (from requests->transformers) (3.4.0)\n",
            "Requirement already satisfied: urllib3<3,>=1.21.1 in /usr/local/lib/python3.10/dist-packages (from requests->transformers) (2.2.3)\n",
            "Requirement already satisfied: mpmath<1.4,>=1.1.0 in /usr/local/lib/python3.10/dist-packages (from sympy->torch) (1.3.0)\n",
            "Downloading groq-0.11.0-py3-none-any.whl (106 kB)\n",
            "\u001b[2K   \u001b[90m━━━━━━━━━━━━━━━━━━━━━━━━━━━━━━━━━━━━━━━━\u001b[0m \u001b[32m106.5/106.5 kB\u001b[0m \u001b[31m4.2 MB/s\u001b[0m eta \u001b[36m0:00:00\u001b[0m\n",
            "\u001b[?25hDownloading httpx-0.27.2-py3-none-any.whl (76 kB)\n",
            "\u001b[2K   \u001b[90m━━━━━━━━━━━━━━━━━━━━━━━━━━━━━━━━━━━━━━━━\u001b[0m \u001b[32m76.4/76.4 kB\u001b[0m \u001b[31m6.1 MB/s\u001b[0m eta \u001b[36m0:00:00\u001b[0m\n",
            "\u001b[?25hDownloading httpcore-1.0.6-py3-none-any.whl (78 kB)\n",
            "\u001b[2K   \u001b[90m━━━━━━━━━━━━━━━━━━━━━━━━━━━━━━━━━━━━━━━━\u001b[0m \u001b[32m78.0/78.0 kB\u001b[0m \u001b[31m6.6 MB/s\u001b[0m eta \u001b[36m0:00:00\u001b[0m\n",
            "\u001b[?25hDownloading h11-0.14.0-py3-none-any.whl (58 kB)\n",
            "\u001b[2K   \u001b[90m━━━━━━━━━━━━━━━━━━━━━━━━━━━━━━━━━━━━━━━━\u001b[0m \u001b[32m58.3/58.3 kB\u001b[0m \u001b[31m4.3 MB/s\u001b[0m eta \u001b[36m0:00:00\u001b[0m\n",
            "\u001b[?25hInstalling collected packages: h11, httpcore, httpx, groq\n",
            "Successfully installed groq-0.11.0 h11-0.14.0 httpcore-1.0.6 httpx-0.27.2\n"
          ]
        }
      ],
      "source": [
        "pip install transformers torch groq\n"
      ]
    },
    {
      "cell_type": "code",
      "source": [
        "client = Groq(\n",
        "    api_key=\"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\",\n",
        ")\n"
      ],
      "metadata": {
        "id": "H52iF9hN5v-7"
      },
      "execution_count": 3,
      "outputs": []
    },
    {
      "cell_type": "code",
      "source": [
        "pip install --upgrade groq\n"
      ],
      "metadata": {
        "colab": {
          "base_uri": "https://localhost:8080/"
        },
        "id": "fUm-uTEO8o7w",
        "outputId": "b9a4d6f3-37b1-4cb6-e181-ce62a2aefeae"
      },
      "execution_count": 11,
      "outputs": [
        {
          "output_type": "stream",
          "name": "stdout",
          "text": [
            "Requirement already satisfied: groq in /usr/local/lib/python3.10/dist-packages (0.11.0)\n",
            "Requirement already satisfied: anyio<5,>=3.5.0 in /usr/local/lib/python3.10/dist-packages (from groq) (3.7.1)\n",
            "Requirement already satisfied: distro<2,>=1.7.0 in /usr/lib/python3/dist-packages (from groq) (1.7.0)\n",
            "Requirement already satisfied: httpx<1,>=0.23.0 in /usr/local/lib/python3.10/dist-packages (from groq) (0.27.2)\n",
            "Requirement already satisfied: pydantic<3,>=1.9.0 in /usr/local/lib/python3.10/dist-packages (from groq) (2.9.2)\n",
            "Requirement already satisfied: sniffio in /usr/local/lib/python3.10/dist-packages (from groq) (1.3.1)\n",
            "Requirement already satisfied: typing-extensions<5,>=4.7 in /usr/local/lib/python3.10/dist-packages (from groq) (4.12.2)\n",
            "Requirement already satisfied: idna>=2.8 in /usr/local/lib/python3.10/dist-packages (from anyio<5,>=3.5.0->groq) (3.10)\n",
            "Requirement already satisfied: exceptiongroup in /usr/local/lib/python3.10/dist-packages (from anyio<5,>=3.5.0->groq) (1.2.2)\n",
            "Requirement already satisfied: certifi in /usr/local/lib/python3.10/dist-packages (from httpx<1,>=0.23.0->groq) (2024.8.30)\n",
            "Requirement already satisfied: httpcore==1.* in /usr/local/lib/python3.10/dist-packages (from httpx<1,>=0.23.0->groq) (1.0.6)\n",
            "Requirement already satisfied: h11<0.15,>=0.13 in /usr/local/lib/python3.10/dist-packages (from httpcore==1.*->httpx<1,>=0.23.0->groq) (0.14.0)\n",
            "Requirement already satisfied: annotated-types>=0.6.0 in /usr/local/lib/python3.10/dist-packages (from pydantic<3,>=1.9.0->groq) (0.7.0)\n",
            "Requirement already satisfied: pydantic-core==2.23.4 in /usr/local/lib/python3.10/dist-packages (from pydantic<3,>=1.9.0->groq) (2.23.4)\n"
          ]
        }
      ]
    },
    {
      "cell_type": "code",
      "source": [
        "print(f\"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\")\n"
      ],
      "metadata": {
        "colab": {
          "base_uri": "https://localhost:8080/"
        },
        "id": "Ac-FPOiK67aq",
        "outputId": "4c4ce7f0-6f89-4d07-e042-fc7f12894b30"
      },
      "execution_count": 7,
      "outputs": [
        {
          "output_type": "stream",
          "name": "stdout",
          "text": [
            "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\n"
          ]
        }
      ]
    },
    {
      "cell_type": "code",
      "source": [
        "from groq import Groq\n",
        "from transformers import pipeline\n",
        "\n",
        "# Initialize Groq client with the API key directly (replace with your actual API key)\n",
        "client = Groq(\n",
        "    api_key=\"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\",  # Replace this with your Groq API key\n",
        ")\n",
        "\n",
        "# Initialize the deepset/roberta-base-squad2 pipeline for question answering\n",
        "question_answerer = pipeline(\"question-answering\", model=\"deepset/roberta-base-squad2\")\n",
        "\n",
        "def get_groq_response(prompt):\n",
        "    # Get a response from the Groq LLM\n",
        "    chat_completion = client.chat.completions.create(\n",
        "        messages=[\n",
        "            {\n",
        "                \"role\": \"user\",\n",
        "                \"content\": prompt,\n",
        "            }\n",
        "        ],\n",
        "        model=\"llama3-8b-8192\",  # Example model; you can change as needed\n",
        "    )\n",
        "    return chat_completion.choices[0].message.content\n",
        "\n",
        "def ask_question(context, question):\n",
        "    # Use deepset/roberta-base-squad2 for answering the question based on the provided context\n",
        "    result = question_answerer(question=question, context=context)\n",
        "    return result['answer']\n",
        "\n",
        "# Example usage\n",
        "if __name__ == \"__main__\":\n",
        "    # Get user input for the question\n",
        "    user_question = input(\"Ask your question: \")\n",
        "\n",
        "    # Get a response from the Groq LLM for a general conversational answer\n",
        "    groq_response = get_groq_response(user_question)\n",
        "    print(f\"Groq conversational response: {groq_response}\")\n",
        "\n",
        "    # Context for question answering (you can update this based on your use case)\n",
        "    context = \"\"\"\n",
        "    Unlock Your Potential with SkillBridge: Your Gateway to Freelancing Success\n",
        "In today’s fast-paced digital landscape, freelancing has emerged as an exciting career path for many. If you’re looking to transform your passion into a profession or simply want to earn some extra income, SkillBridge is here to guide you on your journey.\n",
        "\n",
        "Why Choose SkillBridge?\n",
        "SkillBridge stands out in the crowded marketplace of online learning platforms. Here’s why you should consider us:\n",
        "\n",
        "Tailored Learning Experience: With AI integration, SkillBridge personalizes your learning journey. Whether you’re a beginner or looking to enhance your existing skills, our AI-driven recommendations guide you to the courses that best match your goals.\n",
        "\n",
        "Expert-Led Courses: We offer a diverse range of courses taught by industry professionals. From content writing to graphic design, our instructors share their real-world experiences and insights, ensuring you gain practical knowledge that you can apply immediately.\n",
        "\n",
        "Community Support: Join a vibrant community of learners just like you! Engage with peers, share insights, and collaborate on projects. Networking is crucial in freelancing, and SkillBridge fosters connections that can lead to exciting opportunities.\n",
        "\n",
        "What Are We Offering?\n",
        "At SkillBridge, we provide an extensive array of courses to help you succeed in the freelance market:\n",
        "\n",
        "Content Writing: Master the art of storytelling and learn how to craft compelling articles, blogs, and marketing content that captivates readers.\n",
        "\n",
        "Graphic Designing: Unleash your creativity by exploring design principles and tools to create stunning visuals for clients.\n",
        "\n",
        "Digital Marketing: Understand the essentials of online marketing, from SEO strategies to social media management.\n",
        "\n",
        "Web Development: Gain the technical skills to build and maintain websites, making you an invaluable asset to any company.\n",
        "\n",
        "Social Media Management: Learn how to create and execute effective social media strategies that enhance brand visibility.\n",
        "\n",
        "AI-Enhanced Learning\n",
        "With AI integration, SkillBridge takes your learning experience to the next level. You can ask short questions like, \"What course should I take?\" or \"How do I start freelancing?\" and receive instant, tailored responses. Our AI is designed to provide you with quick answers and suggestions, making it easier than ever to navigate your learning path.\n",
        "\n",
        "Flexible Learning at Your Own Pace\n",
        "We recognize that everyone has different schedules and learning styles. SkillBridge allows you to learn at your own pace, so you can balance your education with other commitments. Whether you prefer binge-watching course videos or tackling one lesson a day, the choice is yours.\n",
        "\n",
        "Get Started with SkillBridge Today!\n",
        "Are you ready to take the first step toward a rewarding freelance career? Download SkillBridge today and explore the courses that ignite your passion. With the right skills and dedication, the freelance world is yours to conquer!\n",
        "    \"\"\"\n",
        "\n",
        "    # Extract a specific answer from the context using the Hugging Face model\n",
        "    answer = ask_question(context, user_question)\n",
        "    print(f\"Answer from deepset/roberta-base-squad2: {answer}\")\n"
      ],
      "metadata": {
        "colab": {
          "base_uri": "https://localhost:8080/"
        },
        "id": "Ym969uy0O2xk",
        "outputId": "9ddd0b04-097d-42cf-fd8c-c33fc39d93f0"
      },
      "execution_count": 19,
      "outputs": [
        {
          "output_type": "stream",
          "name": "stdout",
          "text": [
            "Ask your question: why choose skillbridge?\n",
            "Groq conversational response: Skillbridge is a popular option for federal employees looking to take a break from their normal work schedule to focus on their education, training, or personal development. Here are some reasons why federal employees might choose Skillbridge:\n",
            "\n",
            "1. **Job flexibility**: Skillbridge allows employees to take a temporary break from their job to pursue military leave, education, or training without affecting their longevity or promotions.\n",
            "2. **Career development**: Skillbridge provides an opportunity to enhance skills, gain new experiences, and upgrade qualifications, which can lead to career advancement and increased job satisfaction.\n",
            "3. **Education benefits**: Skillbridge can be used to pursue higher education, certifications, or vocational training, which can lead to increased earning potential and personal growth.\n",
            "4. **Personal fulfillment**: Skillbridge offers a chance to pursue personal interests, hobbies, or volunteer work, allowing employees to recharge and refocus on their career goals.\n",
            "5. **Convenience**: Skillbridge can be easily scheduled and managed, with a wide window of eligibility (up to 365 days) and flexibility to take breaks within that period.\n",
            "6. **Support**: Skillbridge is administered by the US Office of Personnel Management (OPM), which provides guidance and support to help employees plan and manage their leave.\n",
            "7. **No impact on severance pay**: Unlike other types of leave, Skillbridge does not affect an employee's severance pay or their ability to receive a lump sum payment at the end of their career.\n",
            "8. **Increased employee morale**: Skillbridge demonstrates the organization's commitment to employee well-being and development, which can boost morale and motivation.\n",
            "9. **Work-life balance**: Skillbridge enables employees to achieve a better work-life balance by allowing them to take time off for personal or education purposes without sacrificing their career or job security.\n",
            "10. **No penalty for unused leave**: With Skillbridge, employees can take the break without incurring penalties for unused leave, which is not always the case with other types of leave.\n",
            "\n",
            "Overall, choosing Skillbridge can be a wise decision for federal employees looking to optimize their career development, education, and personal fulfillment while maintaining job security and flexibility.\n",
            "Answer from deepset/roberta-base-squad2: courses\n"
          ]
        }
      ]
    }
  ]
}